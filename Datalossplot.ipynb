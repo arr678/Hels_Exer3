{
 "cells": [
  {
   "cell_type": "code",
   "execution_count": 1,
   "id": "competitive-russian",
   "metadata": {},
   "outputs": [
    {
     "name": "stdout",
     "output_type": "stream",
     "text": [
      "Requirement already satisfied: geopandas in /srv/conda/envs/notebook/lib/python3.7/site-packages (0.9.0)\n",
      "Requirement already satisfied: fiona>=1.8 in /srv/conda/envs/notebook/lib/python3.7/site-packages (from geopandas) (1.8.20)\n",
      "Requirement already satisfied: pyproj>=2.2.0 in /srv/conda/envs/notebook/lib/python3.7/site-packages (from geopandas) (3.1.0)\n",
      "Requirement already satisfied: pandas>=0.24.0 in /srv/conda/envs/notebook/lib/python3.7/site-packages (from geopandas) (1.2.3)\n",
      "Requirement already satisfied: shapely>=1.6 in /srv/conda/envs/notebook/lib/python3.7/site-packages (from geopandas) (1.7.1)\n",
      "Requirement already satisfied: click-plugins>=1.0 in /srv/conda/envs/notebook/lib/python3.7/site-packages (from fiona>=1.8->geopandas) (1.1.1)\n",
      "Requirement already satisfied: munch in /srv/conda/envs/notebook/lib/python3.7/site-packages (from fiona>=1.8->geopandas) (2.5.0)\n",
      "Requirement already satisfied: cligj>=0.5 in /srv/conda/envs/notebook/lib/python3.7/site-packages (from fiona>=1.8->geopandas) (0.7.2)\n",
      "Requirement already satisfied: six>=1.7 in /srv/conda/envs/notebook/lib/python3.7/site-packages (from fiona>=1.8->geopandas) (1.15.0)\n",
      "Requirement already satisfied: click>=4.0 in /srv/conda/envs/notebook/lib/python3.7/site-packages (from fiona>=1.8->geopandas) (7.1.2)\n",
      "Requirement already satisfied: setuptools in /srv/conda/envs/notebook/lib/python3.7/site-packages (from fiona>=1.8->geopandas) (49.6.0.post20210108)\n",
      "Requirement already satisfied: certifi in /srv/conda/envs/notebook/lib/python3.7/site-packages (from fiona>=1.8->geopandas) (2020.12.5)\n",
      "Requirement already satisfied: attrs>=17 in /srv/conda/envs/notebook/lib/python3.7/site-packages (from fiona>=1.8->geopandas) (20.3.0)\n",
      "Requirement already satisfied: python-dateutil>=2.7.3 in /srv/conda/envs/notebook/lib/python3.7/site-packages (from pandas>=0.24.0->geopandas) (2.8.1)\n",
      "Requirement already satisfied: pytz>=2017.3 in /srv/conda/envs/notebook/lib/python3.7/site-packages (from pandas>=0.24.0->geopandas) (2021.1)\n",
      "Requirement already satisfied: numpy>=1.16.5 in /srv/conda/envs/notebook/lib/python3.7/site-packages (from pandas>=0.24.0->geopandas) (1.20.2)\n",
      "Requirement already satisfied: geopy in /srv/conda/envs/notebook/lib/python3.7/site-packages (2.1.0)\n",
      "Requirement already satisfied: geographiclib<2,>=1.49 in /srv/conda/envs/notebook/lib/python3.7/site-packages (from geopy) (1.52)\n"
     ]
    }
   ],
   "source": [
    "!pip install geopandas\n",
    "!pip install geopy"
   ]
  },
  {
   "cell_type": "code",
   "execution_count": 2,
   "id": "exact-disposition",
   "metadata": {},
   "outputs": [],
   "source": [
    "# Import modules\n",
    "import pandas as pd\n",
    "import geopandas as gpd\n",
    "from shapely.geometry import Point\n",
    "\n",
    "fp = \"shopping_centers.txt\"\n",
    "\n",
    "# Read the data (replace \"None\" with your own code)\n",
    "data = pd.read_csv(fp, sep=';')"
   ]
  },
  {
   "cell_type": "code",
   "execution_count": 3,
   "id": "educational-incident",
   "metadata": {},
   "outputs": [],
   "source": [
    "from geopandas.tools import geocode"
   ]
  },
  {
   "cell_type": "code",
   "execution_count": 4,
   "id": "located-glossary",
   "metadata": {},
   "outputs": [],
   "source": [
    "# Geocode the addresses using Nominatim\n",
    "geo = geo = geocode(data['addr'], provider='nominatim', user_agent='gislover', timeout=4)"
   ]
  },
  {
   "cell_type": "code",
   "execution_count": 5,
   "id": "considered-plenty",
   "metadata": {},
   "outputs": [
    {
     "data": {
      "text/html": [
       "<div>\n",
       "<style scoped>\n",
       "    .dataframe tbody tr th:only-of-type {\n",
       "        vertical-align: middle;\n",
       "    }\n",
       "\n",
       "    .dataframe tbody tr th {\n",
       "        vertical-align: top;\n",
       "    }\n",
       "\n",
       "    .dataframe thead th {\n",
       "        text-align: right;\n",
       "    }\n",
       "</style>\n",
       "<table border=\"1\" class=\"dataframe\">\n",
       "  <thead>\n",
       "    <tr style=\"text-align: right;\">\n",
       "      <th></th>\n",
       "      <th>geometry</th>\n",
       "      <th>address</th>\n",
       "    </tr>\n",
       "  </thead>\n",
       "  <tbody>\n",
       "    <tr>\n",
       "      <th>0</th>\n",
       "      <td>POINT (25.08294 60.21170)</td>\n",
       "      <td>Kauppakeskus Itis, 1-7, Itäkatu, Itäkeskus, Va...</td>\n",
       "    </tr>\n",
       "    <tr>\n",
       "      <th>1</th>\n",
       "      <td>POINT (24.93828 60.16878)</td>\n",
       "      <td>Salaattiasema, 14-20, Mannerheimintie, Keskust...</td>\n",
       "    </tr>\n",
       "    <tr>\n",
       "      <th>2</th>\n",
       "      <td>POINT (24.73779 60.16294)</td>\n",
       "      <td>Sports Academy, 11, Piispansilta, Matinkylän k...</td>\n",
       "    </tr>\n",
       "    <tr>\n",
       "      <th>3</th>\n",
       "      <td>POINT (24.81042 60.21752)</td>\n",
       "      <td>Lasten kappeli Arkki, 3-9, Leppävaarankatu, Sä...</td>\n",
       "    </tr>\n",
       "    <tr>\n",
       "      <th>4</th>\n",
       "      <td>POINT (24.96282 60.29245)</td>\n",
       "      <td>Stockmann, 3, Vantaanportinkatu, Vantaanportti...</td>\n",
       "    </tr>\n",
       "    <tr>\n",
       "      <th>5</th>\n",
       "      <td>POINT (24.97904 60.18702)</td>\n",
       "      <td>Silta, 5, Hermannin rantatie, Verkkosaari, Kal...</td>\n",
       "    </tr>\n",
       "    <tr>\n",
       "      <th>6</th>\n",
       "      <td>GEOMETRYCOLLECTION EMPTY</td>\n",
       "      <td>None</td>\n",
       "    </tr>\n",
       "  </tbody>\n",
       "</table>\n",
       "</div>"
      ],
      "text/plain": [
       "                    geometry  \\\n",
       "0  POINT (25.08294 60.21170)   \n",
       "1  POINT (24.93828 60.16878)   \n",
       "2  POINT (24.73779 60.16294)   \n",
       "3  POINT (24.81042 60.21752)   \n",
       "4  POINT (24.96282 60.29245)   \n",
       "5  POINT (24.97904 60.18702)   \n",
       "6   GEOMETRYCOLLECTION EMPTY   \n",
       "\n",
       "                                             address  \n",
       "0  Kauppakeskus Itis, 1-7, Itäkatu, Itäkeskus, Va...  \n",
       "1  Salaattiasema, 14-20, Mannerheimintie, Keskust...  \n",
       "2  Sports Academy, 11, Piispansilta, Matinkylän k...  \n",
       "3  Lasten kappeli Arkki, 3-9, Leppävaarankatu, Sä...  \n",
       "4  Stockmann, 3, Vantaanportinkatu, Vantaanportti...  \n",
       "5  Silta, 5, Hermannin rantatie, Verkkosaari, Kal...  \n",
       "6                                               None  "
      ]
     },
     "execution_count": 5,
     "metadata": {},
     "output_type": "execute_result"
    }
   ],
   "source": [
    "geo"
   ]
  },
  {
   "cell_type": "code",
   "execution_count": 6,
   "id": "retired-browse",
   "metadata": {},
   "outputs": [],
   "source": [
    "geo = geo.to_crs(epsg=3879)"
   ]
  },
  {
   "cell_type": "code",
   "execution_count": 7,
   "id": "initial-jackson",
   "metadata": {},
   "outputs": [],
   "source": [
    "# Join the tables\n",
    "geodata = geo.join(data)"
   ]
  },
  {
   "cell_type": "code",
   "execution_count": 8,
   "id": "greater-internship",
   "metadata": {},
   "outputs": [
    {
     "data": {
      "text/html": [
       "<div>\n",
       "<style scoped>\n",
       "    .dataframe tbody tr th:only-of-type {\n",
       "        vertical-align: middle;\n",
       "    }\n",
       "\n",
       "    .dataframe tbody tr th {\n",
       "        vertical-align: top;\n",
       "    }\n",
       "\n",
       "    .dataframe thead th {\n",
       "        text-align: right;\n",
       "    }\n",
       "</style>\n",
       "<table border=\"1\" class=\"dataframe\">\n",
       "  <thead>\n",
       "    <tr style=\"text-align: right;\">\n",
       "      <th></th>\n",
       "      <th>geometry</th>\n",
       "      <th>address</th>\n",
       "      <th>id</th>\n",
       "      <th>name</th>\n",
       "      <th>addr</th>\n",
       "    </tr>\n",
       "  </thead>\n",
       "  <tbody>\n",
       "    <tr>\n",
       "      <th>0</th>\n",
       "      <td>POINT (25504598.602 6677662.109)</td>\n",
       "      <td>Kauppakeskus Itis, 1-7, Itäkatu, Itäkeskus, Va...</td>\n",
       "      <td>1000</td>\n",
       "      <td>Itis</td>\n",
       "      <td>Itäkatu 1-7, 00930 Helsinki, Finland</td>\n",
       "    </tr>\n",
       "    <tr>\n",
       "      <th>1</th>\n",
       "      <td>POINT (25496573.542 6672878.360)</td>\n",
       "      <td>Salaattiasema, 14-20, Mannerheimintie, Keskust...</td>\n",
       "      <td>1001</td>\n",
       "      <td>Forum</td>\n",
       "      <td>Mannerheimintie 14–20, 00100 Helsinki, Finland</td>\n",
       "    </tr>\n",
       "    <tr>\n",
       "      <th>2</th>\n",
       "      <td>POINT (25485440.532 6672255.563)</td>\n",
       "      <td>Sports Academy, 11, Piispansilta, Matinkylän k...</td>\n",
       "      <td>1002</td>\n",
       "      <td>Iso-omena</td>\n",
       "      <td>Piispansilta 11, 02230 Espoo, Finland</td>\n",
       "    </tr>\n",
       "    <tr>\n",
       "      <th>3</th>\n",
       "      <td>POINT (25489491.076 6678322.265)</td>\n",
       "      <td>Lasten kappeli Arkki, 3-9, Leppävaarankatu, Sä...</td>\n",
       "      <td>1003</td>\n",
       "      <td>Sello</td>\n",
       "      <td>Leppävaarankatu 3-9, 02600 Espoo, Finland</td>\n",
       "    </tr>\n",
       "    <tr>\n",
       "      <th>4</th>\n",
       "      <td>POINT (25497943.932 6686656.982)</td>\n",
       "      <td>Stockmann, 3, Vantaanportinkatu, Vantaanportti...</td>\n",
       "      <td>1004</td>\n",
       "      <td>Jumbo</td>\n",
       "      <td>Vantaanportinkatu 3, 01510 Vantaa, Finland</td>\n",
       "    </tr>\n",
       "    <tr>\n",
       "      <th>5</th>\n",
       "      <td>POINT (25498837.156 6674909.983)</td>\n",
       "      <td>Silta, 5, Hermannin rantatie, Verkkosaari, Kal...</td>\n",
       "      <td>1005</td>\n",
       "      <td>REDI</td>\n",
       "      <td>Hermannin rantatie 5, 00580 Helsinki, Finland</td>\n",
       "    </tr>\n",
       "    <tr>\n",
       "      <th>6</th>\n",
       "      <td>GEOMETRYCOLLECTION EMPTY</td>\n",
       "      <td>None</td>\n",
       "      <td>1006</td>\n",
       "      <td>Mall of Tripla</td>\n",
       "      <td>Fredikanterassi 1, 00520 Helsinki, Finland</td>\n",
       "    </tr>\n",
       "  </tbody>\n",
       "</table>\n",
       "</div>"
      ],
      "text/plain": [
       "                           geometry  \\\n",
       "0  POINT (25504598.602 6677662.109)   \n",
       "1  POINT (25496573.542 6672878.360)   \n",
       "2  POINT (25485440.532 6672255.563)   \n",
       "3  POINT (25489491.076 6678322.265)   \n",
       "4  POINT (25497943.932 6686656.982)   \n",
       "5  POINT (25498837.156 6674909.983)   \n",
       "6          GEOMETRYCOLLECTION EMPTY   \n",
       "\n",
       "                                             address    id            name  \\\n",
       "0  Kauppakeskus Itis, 1-7, Itäkatu, Itäkeskus, Va...  1000            Itis   \n",
       "1  Salaattiasema, 14-20, Mannerheimintie, Keskust...  1001           Forum   \n",
       "2  Sports Academy, 11, Piispansilta, Matinkylän k...  1002       Iso-omena   \n",
       "3  Lasten kappeli Arkki, 3-9, Leppävaarankatu, Sä...  1003           Sello   \n",
       "4  Stockmann, 3, Vantaanportinkatu, Vantaanportti...  1004           Jumbo   \n",
       "5  Silta, 5, Hermannin rantatie, Verkkosaari, Kal...  1005            REDI   \n",
       "6                                               None  1006  Mall of Tripla   \n",
       "\n",
       "                                             addr  \n",
       "0            Itäkatu 1-7, 00930 Helsinki, Finland  \n",
       "1  Mannerheimintie 14–20, 00100 Helsinki, Finland  \n",
       "2           Piispansilta 11, 02230 Espoo, Finland  \n",
       "3       Leppävaarankatu 3-9, 02600 Espoo, Finland  \n",
       "4      Vantaanportinkatu 3, 01510 Vantaa, Finland  \n",
       "5   Hermannin rantatie 5, 00580 Helsinki, Finland  \n",
       "6      Fredikanterassi 1, 00520 Helsinki, Finland  "
      ]
     },
     "execution_count": 8,
     "metadata": {},
     "output_type": "execute_result"
    }
   ],
   "source": [
    "geodata"
   ]
  },
  {
   "cell_type": "code",
   "execution_count": 9,
   "id": "vulnerable-flavor",
   "metadata": {},
   "outputs": [],
   "source": [
    "# Define output filepath\n",
    "out_fp = \"shopping_centers.shp\"\n",
    "\n",
    "# Save file\n",
    "geodata.to_file(out_fp)"
   ]
  },
  {
   "cell_type": "code",
   "execution_count": 10,
   "id": "chief-sailing",
   "metadata": {},
   "outputs": [
    {
     "name": "stdout",
     "output_type": "stream",
     "text": [
      "Requirement already satisfied: geojson in /srv/conda/envs/notebook/lib/python3.7/site-packages (2.5.0)\n"
     ]
    }
   ],
   "source": [
    "!pip install geojson"
   ]
  },
  {
   "cell_type": "code",
   "execution_count": 11,
   "id": "excessive-denver",
   "metadata": {},
   "outputs": [],
   "source": [
    "# Read population grid data for 2018 into a variable `pop`. \n",
    "# Remember to check the crs info! \n",
    "import geopandas as gpd\n",
    "from pyproj import CRS\n",
    "import requests\n",
    "import geojson\n",
    "\n",
    "# Specify the url for web feature service\n",
    "url = 'https://kartta.hsy.fi/geoserver/wfs'\n",
    "\n",
    "# Specify parameters (read data in json format). \n",
    "# Available feature types in this particular data source: http://geo.stat.fi/geoserver/vaestoruutu/wfs?service=wfs&version=2.0.0&request=describeFeatureType\n",
    "params = dict(service='WFS', \n",
    "              version='2.0.0', \n",
    "              request='GetFeature', \n",
    "              typeName='asuminen_ja_maankaytto:Vaestotietoruudukko_2018', \n",
    "              outputFormat='json')\n",
    "\n",
    "# Fetch data from WFS using requests\n",
    "r = requests.get(url, params=params)\n",
    "\n",
    "# Create GeoDataFrame from geojson\n",
    "pop = gpd.GeoDataFrame.from_features(geojson.loads(r.content))"
   ]
  },
  {
   "cell_type": "code",
   "execution_count": 12,
   "id": "martial-pierre",
   "metadata": {},
   "outputs": [],
   "source": [
    "# Define crs\n",
    "pop.crs = CRS.from_epsg(3879).to_wkt()"
   ]
  },
  {
   "cell_type": "code",
   "execution_count": 13,
   "id": "labeled-rescue",
   "metadata": {},
   "outputs": [
    {
     "data": {
      "text/plain": [
       "<Projected CRS: EPSG:3879>\n",
       "Name: ETRS89 / GK25FIN\n",
       "Axis Info [cartesian]:\n",
       "- N[north]: Northing (metre)\n",
       "- E[east]: Easting (metre)\n",
       "Area of Use:\n",
       "- name: Finland - nominally onshore between 24°30'E and 25°30'E but may be used in adjacent areas if a municipality chooses to use one zone over its whole extent.\n",
       "- bounds: (24.5, 59.94, 25.5, 68.9)\n",
       "Coordinate Operation:\n",
       "- name: Finland Gauss-Kruger zone 25\n",
       "- method: Transverse Mercator\n",
       "Datum: European Terrestrial Reference System 1989 ensemble\n",
       "- Ellipsoid: GRS 1980\n",
       "- Prime Meridian: Greenwich"
      ]
     },
     "execution_count": 13,
     "metadata": {},
     "output_type": "execute_result"
    }
   ],
   "source": [
    "pop.crs"
   ]
  },
  {
   "cell_type": "code",
   "execution_count": 14,
   "id": "undefined-weather",
   "metadata": {},
   "outputs": [],
   "source": [
    "# Change the name of a column\n",
    "pop = pop.rename(columns={'asukkaita': 'pop18'})\n",
    "\n",
    "# Subset columns\n",
    "pop = pop[[\"pop18\", \"geometry\"]]"
   ]
  },
  {
   "cell_type": "code",
   "execution_count": 15,
   "id": "transsexual-district",
   "metadata": {},
   "outputs": [
    {
     "data": {
      "text/html": [
       "<div>\n",
       "<style scoped>\n",
       "    .dataframe tbody tr th:only-of-type {\n",
       "        vertical-align: middle;\n",
       "    }\n",
       "\n",
       "    .dataframe tbody tr th {\n",
       "        vertical-align: top;\n",
       "    }\n",
       "\n",
       "    .dataframe thead th {\n",
       "        text-align: right;\n",
       "    }\n",
       "</style>\n",
       "<table border=\"1\" class=\"dataframe\">\n",
       "  <thead>\n",
       "    <tr style=\"text-align: right;\">\n",
       "      <th></th>\n",
       "      <th>pop18</th>\n",
       "      <th>geometry</th>\n",
       "    </tr>\n",
       "  </thead>\n",
       "  <tbody>\n",
       "    <tr>\n",
       "      <th>0</th>\n",
       "      <td>108</td>\n",
       "      <td>MULTIPOLYGON Z (((25476499.999 6674248.999 0.0...</td>\n",
       "    </tr>\n",
       "    <tr>\n",
       "      <th>1</th>\n",
       "      <td>273</td>\n",
       "      <td>MULTIPOLYGON Z (((25476749.997 6674498.998 0.0...</td>\n",
       "    </tr>\n",
       "    <tr>\n",
       "      <th>2</th>\n",
       "      <td>239</td>\n",
       "      <td>MULTIPOLYGON Z (((25476999.994 6675749.004 0.0...</td>\n",
       "    </tr>\n",
       "    <tr>\n",
       "      <th>3</th>\n",
       "      <td>202</td>\n",
       "      <td>MULTIPOLYGON Z (((25476999.994 6675499.004 0.0...</td>\n",
       "    </tr>\n",
       "    <tr>\n",
       "      <th>4</th>\n",
       "      <td>261</td>\n",
       "      <td>MULTIPOLYGON Z (((25476999.994 6675249.005 0.0...</td>\n",
       "    </tr>\n",
       "  </tbody>\n",
       "</table>\n",
       "</div>"
      ],
      "text/plain": [
       "   pop18                                           geometry\n",
       "0    108  MULTIPOLYGON Z (((25476499.999 6674248.999 0.0...\n",
       "1    273  MULTIPOLYGON Z (((25476749.997 6674498.998 0.0...\n",
       "2    239  MULTIPOLYGON Z (((25476999.994 6675749.004 0.0...\n",
       "3    202  MULTIPOLYGON Z (((25476999.994 6675499.004 0.0...\n",
       "4    261  MULTIPOLYGON Z (((25476999.994 6675249.005 0.0..."
      ]
     },
     "execution_count": 15,
     "metadata": {},
     "output_type": "execute_result"
    }
   ],
   "source": [
    "pop.head()"
   ]
  },
  {
   "cell_type": "code",
   "execution_count": 16,
   "id": "copyrighted-batch",
   "metadata": {},
   "outputs": [
    {
     "name": "stdout",
     "output_type": "stream",
     "text": [
      "Requirement already satisfied: rtree in /srv/conda/envs/notebook/lib/python3.7/site-packages (0.9.7)\n",
      "Requirement already satisfied: pygeos in /srv/conda/envs/notebook/lib/python3.7/site-packages (0.10)\n",
      "Requirement already satisfied: numpy>=1.13 in /srv/conda/envs/notebook/lib/python3.7/site-packages (from pygeos) (1.20.2)\n"
     ]
    }
   ],
   "source": [
    "!pip install rtree\n",
    "!pip install pygeos"
   ]
  },
  {
   "cell_type": "code",
   "execution_count": 17,
   "id": "viral-newspaper",
   "metadata": {},
   "outputs": [],
   "source": [
    "# Make a spatial join\n",
    "join = gpd.sjoin(geodata, pop, how=\"inner\", op=\"within\")"
   ]
  },
  {
   "cell_type": "code",
   "execution_count": 18,
   "id": "convinced-marketplace",
   "metadata": {},
   "outputs": [
    {
     "data": {
      "text/html": [
       "<div>\n",
       "<style scoped>\n",
       "    .dataframe tbody tr th:only-of-type {\n",
       "        vertical-align: middle;\n",
       "    }\n",
       "\n",
       "    .dataframe tbody tr th {\n",
       "        vertical-align: top;\n",
       "    }\n",
       "\n",
       "    .dataframe thead th {\n",
       "        text-align: right;\n",
       "    }\n",
       "</style>\n",
       "<table border=\"1\" class=\"dataframe\">\n",
       "  <thead>\n",
       "    <tr style=\"text-align: right;\">\n",
       "      <th></th>\n",
       "      <th>geometry</th>\n",
       "      <th>address</th>\n",
       "      <th>id</th>\n",
       "      <th>name</th>\n",
       "      <th>addr</th>\n",
       "      <th>index_right</th>\n",
       "      <th>pop18</th>\n",
       "    </tr>\n",
       "  </thead>\n",
       "  <tbody>\n",
       "    <tr>\n",
       "      <th>1</th>\n",
       "      <td>POINT (25496573.542 6672878.360)</td>\n",
       "      <td>Salaattiasema, 14-20, Mannerheimintie, Keskust...</td>\n",
       "      <td>1001</td>\n",
       "      <td>Forum</td>\n",
       "      <td>Mannerheimintie 14–20, 00100 Helsinki, Finland</td>\n",
       "      <td>1652</td>\n",
       "      <td>125</td>\n",
       "    </tr>\n",
       "    <tr>\n",
       "      <th>2</th>\n",
       "      <td>POINT (25485440.532 6672255.563)</td>\n",
       "      <td>Sports Academy, 11, Piispansilta, Matinkylän k...</td>\n",
       "      <td>1002</td>\n",
       "      <td>Iso-omena</td>\n",
       "      <td>Piispansilta 11, 02230 Espoo, Finland</td>\n",
       "      <td>489</td>\n",
       "      <td>352</td>\n",
       "    </tr>\n",
       "    <tr>\n",
       "      <th>3</th>\n",
       "      <td>POINT (25489491.076 6678322.265)</td>\n",
       "      <td>Lasten kappeli Arkki, 3-9, Leppävaarankatu, Sä...</td>\n",
       "      <td>1003</td>\n",
       "      <td>Sello</td>\n",
       "      <td>Leppävaarankatu 3-9, 02600 Espoo, Finland</td>\n",
       "      <td>909</td>\n",
       "      <td>978</td>\n",
       "    </tr>\n",
       "    <tr>\n",
       "      <th>5</th>\n",
       "      <td>POINT (25498837.156 6674909.983)</td>\n",
       "      <td>Silta, 5, Hermannin rantatie, Verkkosaari, Kal...</td>\n",
       "      <td>1005</td>\n",
       "      <td>REDI</td>\n",
       "      <td>Hermannin rantatie 5, 00580 Helsinki, Finland</td>\n",
       "      <td>1942</td>\n",
       "      <td>231</td>\n",
       "    </tr>\n",
       "  </tbody>\n",
       "</table>\n",
       "</div>"
      ],
      "text/plain": [
       "                           geometry  \\\n",
       "1  POINT (25496573.542 6672878.360)   \n",
       "2  POINT (25485440.532 6672255.563)   \n",
       "3  POINT (25489491.076 6678322.265)   \n",
       "5  POINT (25498837.156 6674909.983)   \n",
       "\n",
       "                                             address    id       name  \\\n",
       "1  Salaattiasema, 14-20, Mannerheimintie, Keskust...  1001      Forum   \n",
       "2  Sports Academy, 11, Piispansilta, Matinkylän k...  1002  Iso-omena   \n",
       "3  Lasten kappeli Arkki, 3-9, Leppävaarankatu, Sä...  1003      Sello   \n",
       "5  Silta, 5, Hermannin rantatie, Verkkosaari, Kal...  1005       REDI   \n",
       "\n",
       "                                             addr  index_right  pop18  \n",
       "1  Mannerheimintie 14–20, 00100 Helsinki, Finland         1652    125  \n",
       "2           Piispansilta 11, 02230 Espoo, Finland          489    352  \n",
       "3       Leppävaarankatu 3-9, 02600 Espoo, Finland          909    978  \n",
       "5   Hermannin rantatie 5, 00580 Helsinki, Finland         1942    231  "
      ]
     },
     "execution_count": 18,
     "metadata": {},
     "output_type": "execute_result"
    }
   ],
   "source": [
    "join"
   ]
  },
  {
   "cell_type": "code",
   "execution_count": 19,
   "id": "several-jason",
   "metadata": {},
   "outputs": [
    {
     "data": {
      "text/plain": [
       "<matplotlib.axes._subplots.AxesSubplot at 0x7fb43118cc50>"
      ]
     },
     "execution_count": 19,
     "metadata": {},
     "output_type": "execute_result"
    },
    {
     "data": {
      "image/png": "[encoded data removed]",
      "text/plain": [
       "<Figure size 1080x576 with 1 Axes>"
      ]
     },
     "metadata": {
      "needs_background": "light"
     },
     "output_type": "display_data"
    }
   ],
   "source": [
    "import matplotlib.pyplot as plt\n",
    "\n",
    "# Create a figure with one subplot\n",
    "fig, ax = plt.subplots(figsize=(15,8))\n",
    "\n",
    "# Plot population grid\n",
    "pop.plot(ax=ax)\n",
    "\n",
    "# Plot points\n",
    "geodata.plot(ax=ax, color='red', markersize=5)"
   ]
  },
  {
   "cell_type": "code",
   "execution_count": null,
   "id": "broke-montgomery",
   "metadata": {},
   "outputs": [],
   "source": []
  }
 ],
 "metadata": {
  "kernelspec": {
   "display_name": "Python 3",
   "language": "python",
   "name": "python3"
  },
  "language_info": {
   "codemirror_mode": {
    "name": "ipython",
    "version": 3
   },
   "file_extension": ".py",
   "mimetype": "text/x-python",
   "name": "python",
   "nbconvert_exporter": "python",
   "pygments_lexer": "ipython3",
   "version": "3.7.8"
  }
 },
 "nbformat": 4,
 "nbformat_minor": 5
}
